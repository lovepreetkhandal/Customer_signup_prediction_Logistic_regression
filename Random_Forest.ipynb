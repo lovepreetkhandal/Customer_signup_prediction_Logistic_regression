{
 "cells": [
  {
   "cell_type": "code",
   "execution_count": 1,
   "metadata": {},
   "outputs": [],
   "source": [
    "### Random Forest CLF Advanced Version"
   ]
  },
  {
   "cell_type": "code",
   "execution_count": 2,
   "metadata": {},
   "outputs": [],
   "source": [
    "import pandas as pd\n",
    "import numpy as np\n",
    "from sklearn.ensemble import RandomForestClassifier\n",
    "import matplotlib.pyplot as plt\n",
    "import pickle\n",
    "from sklearn.utils import shuffle\n",
    "from sklearn.model_selection import train_test_split, cross_val_score, KFold\n",
    "from sklearn.metrics import accuracy_score, confusion_matrix, precision_score, recall_score, f1_score\n",
    "from sklearn.preprocessing import OneHotEncoder\n",
    "from sklearn.inspection import permutation_importance\n",
    "from sklearn.model_selection import GridSearchCV\n",
    "#### from sklearn.feature_selection import RFECV"
   ]
  },
  {
   "cell_type": "code",
   "execution_count": 3,
   "metadata": {},
   "outputs": [
    {
     "data": {
      "text/html": [
       "<div>\n",
       "<style scoped>\n",
       "    .dataframe tbody tr th:only-of-type {\n",
       "        vertical-align: middle;\n",
       "    }\n",
       "\n",
       "    .dataframe tbody tr th {\n",
       "        vertical-align: top;\n",
       "    }\n",
       "\n",
       "    .dataframe thead th {\n",
       "        text-align: right;\n",
       "    }\n",
       "</style>\n",
       "<table border=\"1\" class=\"dataframe\">\n",
       "  <thead>\n",
       "    <tr style=\"text-align: right;\">\n",
       "      <th></th>\n",
       "      <th>customer_id</th>\n",
       "      <th>signup_flag</th>\n",
       "      <th>distance_from_store</th>\n",
       "      <th>gender</th>\n",
       "      <th>credit_score</th>\n",
       "      <th>total_sales</th>\n",
       "      <th>total_items</th>\n",
       "      <th>transaction_count</th>\n",
       "      <th>product_area_count</th>\n",
       "      <th>average_basket_value</th>\n",
       "    </tr>\n",
       "  </thead>\n",
       "  <tbody>\n",
       "    <tr>\n",
       "      <th>0</th>\n",
       "      <td>74</td>\n",
       "      <td>1</td>\n",
       "      <td>3.38</td>\n",
       "      <td>F</td>\n",
       "      <td>0.59</td>\n",
       "      <td>1586.89</td>\n",
       "      <td>195</td>\n",
       "      <td>26</td>\n",
       "      <td>5</td>\n",
       "      <td>61.034231</td>\n",
       "    </tr>\n",
       "    <tr>\n",
       "      <th>1</th>\n",
       "      <td>524</td>\n",
       "      <td>1</td>\n",
       "      <td>4.76</td>\n",
       "      <td>F</td>\n",
       "      <td>0.52</td>\n",
       "      <td>2397.26</td>\n",
       "      <td>258</td>\n",
       "      <td>27</td>\n",
       "      <td>5</td>\n",
       "      <td>88.787407</td>\n",
       "    </tr>\n",
       "    <tr>\n",
       "      <th>2</th>\n",
       "      <td>607</td>\n",
       "      <td>1</td>\n",
       "      <td>4.45</td>\n",
       "      <td>F</td>\n",
       "      <td>0.49</td>\n",
       "      <td>1279.91</td>\n",
       "      <td>183</td>\n",
       "      <td>22</td>\n",
       "      <td>5</td>\n",
       "      <td>58.177727</td>\n",
       "    </tr>\n",
       "    <tr>\n",
       "      <th>3</th>\n",
       "      <td>343</td>\n",
       "      <td>0</td>\n",
       "      <td>0.91</td>\n",
       "      <td>M</td>\n",
       "      <td>0.54</td>\n",
       "      <td>967.14</td>\n",
       "      <td>102</td>\n",
       "      <td>17</td>\n",
       "      <td>5</td>\n",
       "      <td>56.890588</td>\n",
       "    </tr>\n",
       "    <tr>\n",
       "      <th>4</th>\n",
       "      <td>322</td>\n",
       "      <td>1</td>\n",
       "      <td>3.02</td>\n",
       "      <td>F</td>\n",
       "      <td>0.63</td>\n",
       "      <td>1566.35</td>\n",
       "      <td>182</td>\n",
       "      <td>30</td>\n",
       "      <td>5</td>\n",
       "      <td>52.211667</td>\n",
       "    </tr>\n",
       "  </tbody>\n",
       "</table>\n",
       "</div>"
      ],
      "text/plain": [
       "   customer_id  signup_flag  distance_from_store gender  credit_score  \\\n",
       "0           74            1                 3.38      F          0.59   \n",
       "1          524            1                 4.76      F          0.52   \n",
       "2          607            1                 4.45      F          0.49   \n",
       "3          343            0                 0.91      M          0.54   \n",
       "4          322            1                 3.02      F          0.63   \n",
       "\n",
       "   total_sales  total_items  transaction_count  product_area_count  \\\n",
       "0      1586.89          195                 26                   5   \n",
       "1      2397.26          258                 27                   5   \n",
       "2      1279.91          183                 22                   5   \n",
       "3       967.14          102                 17                   5   \n",
       "4      1566.35          182                 30                   5   \n",
       "\n",
       "   average_basket_value  \n",
       "0             61.034231  \n",
       "1             88.787407  \n",
       "2             58.177727  \n",
       "3             56.890588  \n",
       "4             52.211667  "
      ]
     },
     "execution_count": 3,
     "metadata": {},
     "output_type": "execute_result"
    }
   ],
   "source": [
    "data_for_model=pickle.load(open(r\"C:\\Users\\12176\\Desktop\\lab\\Data science\\5. Machine_learning\\2. Datasets/abc_classification_modelling.p\", \"rb\"))\n",
    "data_for_model.head()"
   ]
  },
  {
   "cell_type": "code",
   "execution_count": 4,
   "metadata": {},
   "outputs": [],
   "source": [
    "data_for_model.drop([\"customer_id\"], axis=1, inplace =True)"
   ]
  },
  {
   "cell_type": "code",
   "execution_count": 5,
   "metadata": {},
   "outputs": [
    {
     "data": {
      "text/html": [
       "<div>\n",
       "<style scoped>\n",
       "    .dataframe tbody tr th:only-of-type {\n",
       "        vertical-align: middle;\n",
       "    }\n",
       "\n",
       "    .dataframe tbody tr th {\n",
       "        vertical-align: top;\n",
       "    }\n",
       "\n",
       "    .dataframe thead th {\n",
       "        text-align: right;\n",
       "    }\n",
       "</style>\n",
       "<table border=\"1\" class=\"dataframe\">\n",
       "  <thead>\n",
       "    <tr style=\"text-align: right;\">\n",
       "      <th></th>\n",
       "      <th>signup_flag</th>\n",
       "      <th>distance_from_store</th>\n",
       "      <th>gender</th>\n",
       "      <th>credit_score</th>\n",
       "      <th>total_sales</th>\n",
       "      <th>total_items</th>\n",
       "      <th>transaction_count</th>\n",
       "      <th>product_area_count</th>\n",
       "      <th>average_basket_value</th>\n",
       "    </tr>\n",
       "  </thead>\n",
       "  <tbody>\n",
       "    <tr>\n",
       "      <th>714</th>\n",
       "      <td>0</td>\n",
       "      <td>1.64</td>\n",
       "      <td>M</td>\n",
       "      <td>0.58</td>\n",
       "      <td>27.81</td>\n",
       "      <td>6</td>\n",
       "      <td>3</td>\n",
       "      <td>3</td>\n",
       "      <td>9.270000</td>\n",
       "    </tr>\n",
       "    <tr>\n",
       "      <th>605</th>\n",
       "      <td>0</td>\n",
       "      <td>0.88</td>\n",
       "      <td>M</td>\n",
       "      <td>0.63</td>\n",
       "      <td>26.62</td>\n",
       "      <td>9</td>\n",
       "      <td>3</td>\n",
       "      <td>2</td>\n",
       "      <td>8.873333</td>\n",
       "    </tr>\n",
       "    <tr>\n",
       "      <th>120</th>\n",
       "      <td>0</td>\n",
       "      <td>0.56</td>\n",
       "      <td>M</td>\n",
       "      <td>0.62</td>\n",
       "      <td>886.78</td>\n",
       "      <td>154</td>\n",
       "      <td>18</td>\n",
       "      <td>4</td>\n",
       "      <td>49.265556</td>\n",
       "    </tr>\n",
       "    <tr>\n",
       "      <th>208</th>\n",
       "      <td>0</td>\n",
       "      <td>0.11</td>\n",
       "      <td>M</td>\n",
       "      <td>0.58</td>\n",
       "      <td>1256.19</td>\n",
       "      <td>168</td>\n",
       "      <td>34</td>\n",
       "      <td>5</td>\n",
       "      <td>36.946765</td>\n",
       "    </tr>\n",
       "    <tr>\n",
       "      <th>380</th>\n",
       "      <td>0</td>\n",
       "      <td>1.32</td>\n",
       "      <td>M</td>\n",
       "      <td>0.36</td>\n",
       "      <td>739.67</td>\n",
       "      <td>110</td>\n",
       "      <td>21</td>\n",
       "      <td>3</td>\n",
       "      <td>35.222381</td>\n",
       "    </tr>\n",
       "  </tbody>\n",
       "</table>\n",
       "</div>"
      ],
      "text/plain": [
       "     signup_flag  distance_from_store gender  credit_score  total_sales  \\\n",
       "714            0                 1.64      M          0.58        27.81   \n",
       "605            0                 0.88      M          0.63        26.62   \n",
       "120            0                 0.56      M          0.62       886.78   \n",
       "208            0                 0.11      M          0.58      1256.19   \n",
       "380            0                 1.32      M          0.36       739.67   \n",
       "\n",
       "     total_items  transaction_count  product_area_count  average_basket_value  \n",
       "714            6                  3                   3              9.270000  \n",
       "605            9                  3                   2              8.873333  \n",
       "120          154                 18                   4             49.265556  \n",
       "208          168                 34                   5             36.946765  \n",
       "380          110                 21                   3             35.222381  "
      ]
     },
     "execution_count": 5,
     "metadata": {},
     "output_type": "execute_result"
    }
   ],
   "source": [
    "data_for_model = shuffle(data_for_model, random_state = 42)\n",
    "data_for_model.head()"
   ]
  },
  {
   "cell_type": "code",
   "execution_count": 6,
   "metadata": {},
   "outputs": [
    {
     "data": {
      "text/plain": [
       "0    0.689535\n",
       "1    0.310465\n",
       "Name: signup_flag, dtype: float64"
      ]
     },
     "execution_count": 6,
     "metadata": {},
     "output_type": "execute_result"
    }
   ],
   "source": [
    "### class balance\n",
    "data_for_model[\"signup_flag\"].value_counts(normalize =True)"
   ]
  },
  {
   "cell_type": "code",
   "execution_count": 7,
   "metadata": {},
   "outputs": [
    {
     "data": {
      "text/plain": [
       "signup_flag             0\n",
       "distance_from_store     5\n",
       "gender                  5\n",
       "credit_score            8\n",
       "total_sales             0\n",
       "total_items             0\n",
       "transaction_count       0\n",
       "product_area_count      0\n",
       "average_basket_value    0\n",
       "dtype: int64"
      ]
     },
     "execution_count": 7,
     "metadata": {},
     "output_type": "execute_result"
    }
   ],
   "source": [
    "## checking for missing values\n",
    "data_for_model.isna().sum()"
   ]
  },
  {
   "cell_type": "code",
   "execution_count": 8,
   "metadata": {},
   "outputs": [],
   "source": [
    "## checking for missing values\n",
    "data_for_model.dropna(how =\"any\", inplace =True)"
   ]
  },
  {
   "cell_type": "code",
   "execution_count": 9,
   "metadata": {},
   "outputs": [],
   "source": [
    "## Splitting the dataset into input and output variables\n",
    "X = data_for_model.drop([\"signup_flag\"], axis=1)\n",
    "y = data_for_model[\"signup_flag\"]"
   ]
  },
  {
   "cell_type": "code",
   "execution_count": 10,
   "metadata": {},
   "outputs": [],
   "source": [
    "## Split the data into train and test data\n",
    "X_train, X_test, y_train, y_test = train_test_split(X,y, test_size=0.2, random_state=42, stratify =y)"
   ]
  },
  {
   "cell_type": "code",
   "execution_count": 11,
   "metadata": {},
   "outputs": [],
   "source": [
    "## Dealing with categorical variables\n",
    "encoder= OneHotEncoder(sparse=False,drop= \"first\")\n",
    "cat_vars=[\"gender\"]\n",
    "X_train_encoder=encoder.fit_transform(X_train[cat_vars])\n",
    "X_test_encoder=encoder.transform(X_test[cat_vars])\n",
    "feature_names= encoder.get_feature_names(cat_vars)\n",
    "\n",
    "X_train_encoder =pd.DataFrame(X_train_encoder, columns = feature_names)\n",
    "X_train = pd.concat([X_train.reset_index(drop=True), X_train_encoder.reset_index(drop=True)],axis=1)\n",
    "X_train.drop(cat_vars, axis =1, inplace=True)\n",
    "\n",
    "X_test_encoder =pd.DataFrame(X_test_encoder, columns = feature_names)\n",
    "X_test = pd.concat([X_test.reset_index(drop=True), X_test_encoder.reset_index(drop=True)],axis=1)\n",
    "X_test.drop(cat_vars, axis =1, inplace=True)"
   ]
  },
  {
   "cell_type": "markdown",
   "metadata": {},
   "source": [
    "# Hyperparameters Search"
   ]
  },
  {
   "cell_type": "code",
   "execution_count": 12,
   "metadata": {},
   "outputs": [],
   "source": [
    "#  gscv = GridSearchCV(\n",
    "#     estimator = RandomForestClassifier(random_state =42),\n",
    "#      param_grid= {\"n_estimators\": [10,50,100,500],\n",
    "#                  \"max_depth\":[3,4,5,6,7,8,9,10],\n",
    "#                  \"max_features\":[2,5,7,9]},\n",
    "#     cv = 5,\n",
    "#     scoring =\"r2\",\n",
    "#     n_jobs =-1\n",
    "#  )"
   ]
  },
  {
   "cell_type": "code",
   "execution_count": 13,
   "metadata": {},
   "outputs": [],
   "source": [
    "# fit_to_daa =gscv.fit(X_train,y_train) \n",
    "# gscv.best_params_"
   ]
  },
  {
   "cell_type": "code",
   "execution_count": 14,
   "metadata": {},
   "outputs": [
    {
     "data": {
      "text/plain": [
       "0.9352941176470588"
      ]
     },
     "execution_count": 14,
     "metadata": {},
     "output_type": "execute_result"
    }
   ],
   "source": [
    "### ## Model Training\n",
    "clf = RandomForestClassifier(random_state =42, n_estimators = 100, max_features = 7, max_depth = 10)\n",
    "clf.fit(X_train, y_train)\n",
    "y_pred_class = clf.predict(X_test)\n",
    "accuracy = accuracy_score(y_test, y_pred_class)\n",
    "accuracy"
   ]
  },
  {
   "cell_type": "code",
   "execution_count": 15,
   "metadata": {},
   "outputs": [
    {
     "data": {
      "image/png": "[encoded data removed]",
      "text/plain": [
       "<Figure size 633.6x633.6 with 1 Axes>"
      ]
     },
     "metadata": {
      "needs_background": "light"
     },
     "output_type": "display_data"
    }
   ],
   "source": [
    "y_pred_prob = clf.predict_proba(X_test)[:,1]\n",
    "\n",
    "## confusion_matrix\n",
    "conf_matrix = confusion_matrix(y_test, y_pred_class)\n",
    "conf_matrix\n",
    "\n",
    "plt.style.use(\"seaborn-poster\")\n",
    "plt.matshow(conf_matrix, cmap= \"coolwarm\")\n",
    "plt.gca().xaxis.tick_bottom()\n",
    "plt.title(\"Confusion_matrix\")\n",
    "plt.ylabel(\"Actual_class\")\n",
    "plt.xlabel(\"Predicted_class\")\n",
    "for (i,j), corr_value in np.ndenumerate(conf_matrix):\n",
    "    plt.text(j,i,corr_value, ha =\"center\", va =\"center\", fontsize =20)\n",
    "plt.show()  "
   ]
  },
  {
   "cell_type": "code",
   "execution_count": 16,
   "metadata": {},
   "outputs": [
    {
     "data": {
      "text/plain": [
       "0.9352941176470588"
      ]
     },
     "execution_count": 16,
     "metadata": {},
     "output_type": "execute_result"
    }
   ],
   "source": [
    "### Accuracy (the number of correct classification out of all attempted classification)\n",
    "accuracy_score(y_test, y_pred_class)"
   ]
  },
  {
   "cell_type": "code",
   "execution_count": 17,
   "metadata": {},
   "outputs": [
    {
     "data": {
      "text/plain": [
       "0.8867924528301887"
      ]
     },
     "execution_count": 17,
     "metadata": {},
     "output_type": "execute_result"
    }
   ],
   "source": [
    "## Precision (of all observations that were predicted negative, how many were actually positive)\n",
    "precision_score(y_test, y_pred_class)"
   ]
  },
  {
   "cell_type": "code",
   "execution_count": 18,
   "metadata": {},
   "outputs": [
    {
     "data": {
      "text/plain": [
       "0.9038461538461539"
      ]
     },
     "execution_count": 18,
     "metadata": {},
     "output_type": "execute_result"
    }
   ],
   "source": [
    "## Recall (of all positive obs., how many did we predict positive )\n",
    "recall_score(y_test, y_pred_class)"
   ]
  },
  {
   "cell_type": "code",
   "execution_count": 19,
   "metadata": {},
   "outputs": [
    {
     "data": {
      "text/plain": [
       "0.8952380952380953"
      ]
     },
     "execution_count": 19,
     "metadata": {},
     "output_type": "execute_result"
    }
   ],
   "source": [
    "## F1_score(the harmonic mean of precision and recall)\n",
    "f1_score(y_test, y_pred_class)"
   ]
  },
  {
   "cell_type": "code",
   "execution_count": 20,
   "metadata": {},
   "outputs": [
    {
     "data": {
      "text/html": [
       "<div>\n",
       "<style scoped>\n",
       "    .dataframe tbody tr th:only-of-type {\n",
       "        vertical-align: middle;\n",
       "    }\n",
       "\n",
       "    .dataframe tbody tr th {\n",
       "        vertical-align: top;\n",
       "    }\n",
       "\n",
       "    .dataframe thead th {\n",
       "        text-align: right;\n",
       "    }\n",
       "</style>\n",
       "<table border=\"1\" class=\"dataframe\">\n",
       "  <thead>\n",
       "    <tr style=\"text-align: right;\">\n",
       "      <th></th>\n",
       "      <th>0</th>\n",
       "      <th>0</th>\n",
       "    </tr>\n",
       "  </thead>\n",
       "  <tbody>\n",
       "    <tr>\n",
       "      <th>0</th>\n",
       "      <td>0.501995</td>\n",
       "      <td>distance_from_store</td>\n",
       "    </tr>\n",
       "    <tr>\n",
       "      <th>1</th>\n",
       "      <td>0.023213</td>\n",
       "      <td>gender</td>\n",
       "    </tr>\n",
       "    <tr>\n",
       "      <th>2</th>\n",
       "      <td>0.069123</td>\n",
       "      <td>credit_score</td>\n",
       "    </tr>\n",
       "    <tr>\n",
       "      <th>3</th>\n",
       "      <td>0.033509</td>\n",
       "      <td>total_sales</td>\n",
       "    </tr>\n",
       "    <tr>\n",
       "      <th>4</th>\n",
       "      <td>0.065503</td>\n",
       "      <td>total_items</td>\n",
       "    </tr>\n",
       "    <tr>\n",
       "      <th>5</th>\n",
       "      <td>0.203423</td>\n",
       "      <td>transaction_count</td>\n",
       "    </tr>\n",
       "    <tr>\n",
       "      <th>6</th>\n",
       "      <td>0.063397</td>\n",
       "      <td>product_area_count</td>\n",
       "    </tr>\n",
       "    <tr>\n",
       "      <th>7</th>\n",
       "      <td>0.039836</td>\n",
       "      <td>average_basket_value</td>\n",
       "    </tr>\n",
       "  </tbody>\n",
       "</table>\n",
       "</div>"
      ],
      "text/plain": [
       "          0                     0\n",
       "0  0.501995   distance_from_store\n",
       "1  0.023213                gender\n",
       "2  0.069123          credit_score\n",
       "3  0.033509           total_sales\n",
       "4  0.065503           total_items\n",
       "5  0.203423     transaction_count\n",
       "6  0.063397    product_area_count\n",
       "7  0.039836  average_basket_value"
      ]
     },
     "execution_count": 20,
     "metadata": {},
     "output_type": "execute_result"
    }
   ],
   "source": [
    "### Feature importance\n",
    "Feature_importance=pd.DataFrame(clf.feature_importances_)\n",
    "Feature_names=pd.DataFrame(X.columns)\n",
    "Feature_importance_summary = pd.concat([Feature_importance,Feature_names], axis=1)\n",
    "Feature_importance_summary"
   ]
  },
  {
   "cell_type": "code",
   "execution_count": 21,
   "metadata": {},
   "outputs": [
    {
     "data": {
      "text/html": [
       "<div>\n",
       "<style scoped>\n",
       "    .dataframe tbody tr th:only-of-type {\n",
       "        vertical-align: middle;\n",
       "    }\n",
       "\n",
       "    .dataframe tbody tr th {\n",
       "        vertical-align: top;\n",
       "    }\n",
       "\n",
       "    .dataframe thead th {\n",
       "        text-align: right;\n",
       "    }\n",
       "</style>\n",
       "<table border=\"1\" class=\"dataframe\">\n",
       "  <thead>\n",
       "    <tr style=\"text-align: right;\">\n",
       "      <th></th>\n",
       "      <th>Feature_impotance</th>\n",
       "      <th>input_variables</th>\n",
       "    </tr>\n",
       "  </thead>\n",
       "  <tbody>\n",
       "    <tr>\n",
       "      <th>1</th>\n",
       "      <td>0.023213</td>\n",
       "      <td>gender</td>\n",
       "    </tr>\n",
       "    <tr>\n",
       "      <th>3</th>\n",
       "      <td>0.033509</td>\n",
       "      <td>total_sales</td>\n",
       "    </tr>\n",
       "    <tr>\n",
       "      <th>7</th>\n",
       "      <td>0.039836</td>\n",
       "      <td>average_basket_value</td>\n",
       "    </tr>\n",
       "    <tr>\n",
       "      <th>6</th>\n",
       "      <td>0.063397</td>\n",
       "      <td>product_area_count</td>\n",
       "    </tr>\n",
       "    <tr>\n",
       "      <th>4</th>\n",
       "      <td>0.065503</td>\n",
       "      <td>total_items</td>\n",
       "    </tr>\n",
       "    <tr>\n",
       "      <th>2</th>\n",
       "      <td>0.069123</td>\n",
       "      <td>credit_score</td>\n",
       "    </tr>\n",
       "    <tr>\n",
       "      <th>5</th>\n",
       "      <td>0.203423</td>\n",
       "      <td>transaction_count</td>\n",
       "    </tr>\n",
       "    <tr>\n",
       "      <th>0</th>\n",
       "      <td>0.501995</td>\n",
       "      <td>distance_from_store</td>\n",
       "    </tr>\n",
       "  </tbody>\n",
       "</table>\n",
       "</div>"
      ],
      "text/plain": [
       "   Feature_impotance       input_variables\n",
       "1           0.023213                gender\n",
       "3           0.033509           total_sales\n",
       "7           0.039836  average_basket_value\n",
       "6           0.063397    product_area_count\n",
       "4           0.065503           total_items\n",
       "2           0.069123          credit_score\n",
       "5           0.203423     transaction_count\n",
       "0           0.501995   distance_from_store"
      ]
     },
     "execution_count": 21,
     "metadata": {},
     "output_type": "execute_result"
    }
   ],
   "source": [
    "Feature_importance_summary.columns=[\"Feature_impotance\",\"input_variables\"]\n",
    "Feature_importance_summary.sort_values(by = \"Feature_impotance\", inplace= True)\n",
    "Feature_importance_summary"
   ]
  },
  {
   "cell_type": "code",
   "execution_count": 22,
   "metadata": {},
   "outputs": [
    {
     "data": {
      "image/png": "[encoded data removed]",
      "text/plain": [
       "<Figure size 921.6x633.6 with 1 Axes>"
      ]
     },
     "metadata": {
      "needs_background": "light"
     },
     "output_type": "display_data"
    }
   ],
   "source": [
    "\n",
    "plt.barh(Feature_importance_summary[\"input_variables\"], Feature_importance_summary[\"Feature_impotance\"])\n",
    "plt.title(\"Feature Importance of Random Forest\")\n",
    "plt.tight_layout()\n",
    "plt.show()"
   ]
  },
  {
   "cell_type": "code",
   "execution_count": 23,
   "metadata": {},
   "outputs": [
    {
     "data": {
      "image/png": "[encoded data removed]",
      "text/plain": [
       "<Figure size 921.6x633.6 with 1 Axes>"
      ]
     },
     "metadata": {
      "needs_background": "light"
     },
     "output_type": "display_data"
    }
   ],
   "source": [
    "### Permutation importance (feature selection) ## permutation is better than former technique\n",
    "result=permutation_importance(clf, X_test, y_test, n_repeats=10, random_state=42)\n",
    "\n",
    "permutation_importance=pd.DataFrame(result[\"importances_mean\"])\n",
    "Feature_names=pd.DataFrame(X.columns)\n",
    "permutation_importance_summary = pd.concat([permutation_importance,Feature_names], axis=1)\n",
    "permutation_importance_summary.columns=[\"permutation_importance\",\"input_variables\"]\n",
    "permutation_importance_summary.sort_values(by = \"permutation_importance\", inplace= True)\n",
    "permutation_importance_summary\n",
    "plt.barh(permutation_importance_summary[\"input_variables\"], permutation_importance_summary[\"permutation_importance\"])\n",
    "plt.title(\"Permutation Importance of Random Forest\")\n",
    "plt.xlabel(\"Permutation_Importance\")\n",
    "plt.tight_layout()\n",
    "plt.show()"
   ]
  },
  {
   "cell_type": "code",
   "execution_count": 24,
   "metadata": {},
   "outputs": [],
   "source": [
    "import pickle\n",
    "pickle.dump(clf, open('clf_rf.pkl', 'wb'))"
   ]
  }
 ],
 "metadata": {
  "kernelspec": {
   "display_name": "Python 3",
   "language": "python",
   "name": "python3"
  },
  "language_info": {
   "codemirror_mode": {
    "name": "ipython",
    "version": 3
   },
   "file_extension": ".py",
   "mimetype": "text/x-python",
   "name": "python",
   "nbconvert_exporter": "python",
   "pygments_lexer": "ipython3",
   "version": "3.7.9"
  }
 },
 "nbformat": 4,
 "nbformat_minor": 4
}
