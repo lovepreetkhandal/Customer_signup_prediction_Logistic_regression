{
 "cells": [
  {
   "cell_type": "code",
   "execution_count": 1,
   "metadata": {},
   "outputs": [],
   "source": [
    "### Logistic Regression Advanced Template"
   ]
  },
  {
   "cell_type": "code",
   "execution_count": 2,
   "metadata": {},
   "outputs": [],
   "source": [
    "import pandas as pd\n",
    "import numpy as np\n",
    "from sklearn.linear_model import LogisticRegression\n",
    "import matplotlib.pyplot as plt\n",
    "import pickle\n",
    "from sklearn.utils import shuffle\n",
    "from sklearn.model_selection import train_test_split, cross_val_score, KFold\n",
    "from sklearn.metrics import accuracy_score, confusion_matrix, precision_score, recall_score, f1_score\n",
    "from sklearn.preprocessing import OneHotEncoder\n",
    "from sklearn.feature_selection import RFECV"
   ]
  },
  {
   "cell_type": "code",
   "execution_count": 3,
   "metadata": {},
   "outputs": [],
   "source": [
    "data_for_model=pickle.load(open(r\"C:\\Users\\12176\\Desktop\\lab\\Data science\\5. Machine_learning\\2. Datasets/abc_classification_modelling.p\", \"rb\"))"
   ]
  },
  {
   "cell_type": "code",
   "execution_count": 4,
   "metadata": {},
   "outputs": [
    {
     "data": {
      "text/html": [
       "<div>\n",
       "<style scoped>\n",
       "    .dataframe tbody tr th:only-of-type {\n",
       "        vertical-align: middle;\n",
       "    }\n",
       "\n",
       "    .dataframe tbody tr th {\n",
       "        vertical-align: top;\n",
       "    }\n",
       "\n",
       "    .dataframe thead th {\n",
       "        text-align: right;\n",
       "    }\n",
       "</style>\n",
       "<table border=\"1\" class=\"dataframe\">\n",
       "  <thead>\n",
       "    <tr style=\"text-align: right;\">\n",
       "      <th></th>\n",
       "      <th>customer_id</th>\n",
       "      <th>signup_flag</th>\n",
       "      <th>distance_from_store</th>\n",
       "      <th>gender</th>\n",
       "      <th>credit_score</th>\n",
       "      <th>total_sales</th>\n",
       "      <th>total_items</th>\n",
       "      <th>transaction_count</th>\n",
       "      <th>product_area_count</th>\n",
       "      <th>average_basket_value</th>\n",
       "    </tr>\n",
       "  </thead>\n",
       "  <tbody>\n",
       "    <tr>\n",
       "      <th>0</th>\n",
       "      <td>74</td>\n",
       "      <td>1</td>\n",
       "      <td>3.38</td>\n",
       "      <td>F</td>\n",
       "      <td>0.59</td>\n",
       "      <td>1586.89</td>\n",
       "      <td>195</td>\n",
       "      <td>26</td>\n",
       "      <td>5</td>\n",
       "      <td>61.034231</td>\n",
       "    </tr>\n",
       "    <tr>\n",
       "      <th>1</th>\n",
       "      <td>524</td>\n",
       "      <td>1</td>\n",
       "      <td>4.76</td>\n",
       "      <td>F</td>\n",
       "      <td>0.52</td>\n",
       "      <td>2397.26</td>\n",
       "      <td>258</td>\n",
       "      <td>27</td>\n",
       "      <td>5</td>\n",
       "      <td>88.787407</td>\n",
       "    </tr>\n",
       "    <tr>\n",
       "      <th>2</th>\n",
       "      <td>607</td>\n",
       "      <td>1</td>\n",
       "      <td>4.45</td>\n",
       "      <td>F</td>\n",
       "      <td>0.49</td>\n",
       "      <td>1279.91</td>\n",
       "      <td>183</td>\n",
       "      <td>22</td>\n",
       "      <td>5</td>\n",
       "      <td>58.177727</td>\n",
       "    </tr>\n",
       "  </tbody>\n",
       "</table>\n",
       "</div>"
      ],
      "text/plain": [
       "   customer_id  signup_flag  distance_from_store gender  credit_score  \\\n",
       "0           74            1                 3.38      F          0.59   \n",
       "1          524            1                 4.76      F          0.52   \n",
       "2          607            1                 4.45      F          0.49   \n",
       "\n",
       "   total_sales  total_items  transaction_count  product_area_count  \\\n",
       "0      1586.89          195                 26                   5   \n",
       "1      2397.26          258                 27                   5   \n",
       "2      1279.91          183                 22                   5   \n",
       "\n",
       "   average_basket_value  \n",
       "0             61.034231  \n",
       "1             88.787407  \n",
       "2             58.177727  "
      ]
     },
     "execution_count": 4,
     "metadata": {},
     "output_type": "execute_result"
    }
   ],
   "source": [
    "data_for_model.head(3)"
   ]
  },
  {
   "cell_type": "code",
   "execution_count": 5,
   "metadata": {},
   "outputs": [],
   "source": [
    "data_for_model.drop([\"customer_id\"], axis=1, inplace =True)"
   ]
  },
  {
   "cell_type": "code",
   "execution_count": 6,
   "metadata": {},
   "outputs": [],
   "source": [
    "data_for_model = shuffle(data_for_model, random_state = 42)"
   ]
  },
  {
   "cell_type": "code",
   "execution_count": 7,
   "metadata": {},
   "outputs": [
    {
     "data": {
      "text/html": [
       "<div>\n",
       "<style scoped>\n",
       "    .dataframe tbody tr th:only-of-type {\n",
       "        vertical-align: middle;\n",
       "    }\n",
       "\n",
       "    .dataframe tbody tr th {\n",
       "        vertical-align: top;\n",
       "    }\n",
       "\n",
       "    .dataframe thead th {\n",
       "        text-align: right;\n",
       "    }\n",
       "</style>\n",
       "<table border=\"1\" class=\"dataframe\">\n",
       "  <thead>\n",
       "    <tr style=\"text-align: right;\">\n",
       "      <th></th>\n",
       "      <th>signup_flag</th>\n",
       "      <th>distance_from_store</th>\n",
       "      <th>gender</th>\n",
       "      <th>credit_score</th>\n",
       "      <th>total_sales</th>\n",
       "      <th>total_items</th>\n",
       "      <th>transaction_count</th>\n",
       "      <th>product_area_count</th>\n",
       "      <th>average_basket_value</th>\n",
       "    </tr>\n",
       "  </thead>\n",
       "  <tbody>\n",
       "    <tr>\n",
       "      <th>714</th>\n",
       "      <td>0</td>\n",
       "      <td>1.64</td>\n",
       "      <td>M</td>\n",
       "      <td>0.58</td>\n",
       "      <td>27.81</td>\n",
       "      <td>6</td>\n",
       "      <td>3</td>\n",
       "      <td>3</td>\n",
       "      <td>9.270000</td>\n",
       "    </tr>\n",
       "    <tr>\n",
       "      <th>605</th>\n",
       "      <td>0</td>\n",
       "      <td>0.88</td>\n",
       "      <td>M</td>\n",
       "      <td>0.63</td>\n",
       "      <td>26.62</td>\n",
       "      <td>9</td>\n",
       "      <td>3</td>\n",
       "      <td>2</td>\n",
       "      <td>8.873333</td>\n",
       "    </tr>\n",
       "    <tr>\n",
       "      <th>120</th>\n",
       "      <td>0</td>\n",
       "      <td>0.56</td>\n",
       "      <td>M</td>\n",
       "      <td>0.62</td>\n",
       "      <td>886.78</td>\n",
       "      <td>154</td>\n",
       "      <td>18</td>\n",
       "      <td>4</td>\n",
       "      <td>49.265556</td>\n",
       "    </tr>\n",
       "    <tr>\n",
       "      <th>208</th>\n",
       "      <td>0</td>\n",
       "      <td>0.11</td>\n",
       "      <td>M</td>\n",
       "      <td>0.58</td>\n",
       "      <td>1256.19</td>\n",
       "      <td>168</td>\n",
       "      <td>34</td>\n",
       "      <td>5</td>\n",
       "      <td>36.946765</td>\n",
       "    </tr>\n",
       "    <tr>\n",
       "      <th>380</th>\n",
       "      <td>0</td>\n",
       "      <td>1.32</td>\n",
       "      <td>M</td>\n",
       "      <td>0.36</td>\n",
       "      <td>739.67</td>\n",
       "      <td>110</td>\n",
       "      <td>21</td>\n",
       "      <td>3</td>\n",
       "      <td>35.222381</td>\n",
       "    </tr>\n",
       "  </tbody>\n",
       "</table>\n",
       "</div>"
      ],
      "text/plain": [
       "     signup_flag  distance_from_store gender  credit_score  total_sales  \\\n",
       "714            0                 1.64      M          0.58        27.81   \n",
       "605            0                 0.88      M          0.63        26.62   \n",
       "120            0                 0.56      M          0.62       886.78   \n",
       "208            0                 0.11      M          0.58      1256.19   \n",
       "380            0                 1.32      M          0.36       739.67   \n",
       "\n",
       "     total_items  transaction_count  product_area_count  average_basket_value  \n",
       "714            6                  3                   3              9.270000  \n",
       "605            9                  3                   2              8.873333  \n",
       "120          154                 18                   4             49.265556  \n",
       "208          168                 34                   5             36.946765  \n",
       "380          110                 21                   3             35.222381  "
      ]
     },
     "execution_count": 7,
     "metadata": {},
     "output_type": "execute_result"
    }
   ],
   "source": [
    "data_for_model.head()"
   ]
  },
  {
   "cell_type": "code",
   "execution_count": 8,
   "metadata": {},
   "outputs": [
    {
     "data": {
      "text/plain": [
       "signup_flag             0\n",
       "distance_from_store     5\n",
       "gender                  5\n",
       "credit_score            8\n",
       "total_sales             0\n",
       "total_items             0\n",
       "transaction_count       0\n",
       "product_area_count      0\n",
       "average_basket_value    0\n",
       "dtype: int64"
      ]
     },
     "execution_count": 8,
     "metadata": {},
     "output_type": "execute_result"
    }
   ],
   "source": [
    "## checking for missing values\n",
    "data_for_model.isna().sum()"
   ]
  },
  {
   "cell_type": "code",
   "execution_count": 9,
   "metadata": {},
   "outputs": [],
   "source": [
    "## decided to drop the missing values -- small number (no need to impute)\n",
    "data_for_model.dropna(how = \"any\", inplace =True)"
   ]
  },
  {
   "cell_type": "code",
   "execution_count": 10,
   "metadata": {},
   "outputs": [
    {
     "data": {
      "text/plain": [
       "signup_flag             0\n",
       "distance_from_store     0\n",
       "gender                  0\n",
       "credit_score            0\n",
       "total_sales             0\n",
       "total_items             0\n",
       "transaction_count       0\n",
       "product_area_count      0\n",
       "average_basket_value    0\n",
       "dtype: int64"
      ]
     },
     "execution_count": 10,
     "metadata": {},
     "output_type": "execute_result"
    }
   ],
   "source": [
    "data_for_model.isna().sum()"
   ]
  },
  {
   "cell_type": "code",
   "execution_count": 11,
   "metadata": {},
   "outputs": [
    {
     "data": {
      "text/plain": [
       "0    0.695396\n",
       "1    0.304604\n",
       "Name: signup_flag, dtype: float64"
      ]
     },
     "execution_count": 11,
     "metadata": {},
     "output_type": "execute_result"
    }
   ],
   "source": [
    "### class balance\n",
    "data_for_model[\"signup_flag\"].value_counts(normalize =True)"
   ]
  },
  {
   "cell_type": "code",
   "execution_count": 12,
   "metadata": {},
   "outputs": [
    {
     "data": {
      "text/html": [
       "<div>\n",
       "<style scoped>\n",
       "    .dataframe tbody tr th:only-of-type {\n",
       "        vertical-align: middle;\n",
       "    }\n",
       "\n",
       "    .dataframe tbody tr th {\n",
       "        vertical-align: top;\n",
       "    }\n",
       "\n",
       "    .dataframe thead th {\n",
       "        text-align: right;\n",
       "    }\n",
       "</style>\n",
       "<table border=\"1\" class=\"dataframe\">\n",
       "  <thead>\n",
       "    <tr style=\"text-align: right;\">\n",
       "      <th></th>\n",
       "      <th>signup_flag</th>\n",
       "      <th>distance_from_store</th>\n",
       "      <th>credit_score</th>\n",
       "      <th>total_sales</th>\n",
       "      <th>total_items</th>\n",
       "      <th>transaction_count</th>\n",
       "      <th>product_area_count</th>\n",
       "      <th>average_basket_value</th>\n",
       "    </tr>\n",
       "  </thead>\n",
       "  <tbody>\n",
       "    <tr>\n",
       "      <th>count</th>\n",
       "      <td>847.000000</td>\n",
       "      <td>847.000000</td>\n",
       "      <td>847.000000</td>\n",
       "      <td>847.000000</td>\n",
       "      <td>847.000000</td>\n",
       "      <td>847.000000</td>\n",
       "      <td>847.000000</td>\n",
       "      <td>847.000000</td>\n",
       "    </tr>\n",
       "    <tr>\n",
       "      <th>mean</th>\n",
       "      <td>0.304604</td>\n",
       "      <td>2.614545</td>\n",
       "      <td>0.597521</td>\n",
       "      <td>968.166411</td>\n",
       "      <td>143.877214</td>\n",
       "      <td>22.214876</td>\n",
       "      <td>4.177096</td>\n",
       "      <td>38.034161</td>\n",
       "    </tr>\n",
       "    <tr>\n",
       "      <th>std</th>\n",
       "      <td>0.460512</td>\n",
       "      <td>14.397590</td>\n",
       "      <td>0.102264</td>\n",
       "      <td>1073.647531</td>\n",
       "      <td>125.342694</td>\n",
       "      <td>11.721699</td>\n",
       "      <td>0.920887</td>\n",
       "      <td>24.243691</td>\n",
       "    </tr>\n",
       "    <tr>\n",
       "      <th>min</th>\n",
       "      <td>0.000000</td>\n",
       "      <td>0.000000</td>\n",
       "      <td>0.260000</td>\n",
       "      <td>2.090000</td>\n",
       "      <td>1.000000</td>\n",
       "      <td>1.000000</td>\n",
       "      <td>1.000000</td>\n",
       "      <td>2.090000</td>\n",
       "    </tr>\n",
       "    <tr>\n",
       "      <th>25%</th>\n",
       "      <td>0.000000</td>\n",
       "      <td>0.730000</td>\n",
       "      <td>0.530000</td>\n",
       "      <td>383.940000</td>\n",
       "      <td>77.000000</td>\n",
       "      <td>16.000000</td>\n",
       "      <td>4.000000</td>\n",
       "      <td>21.734700</td>\n",
       "    </tr>\n",
       "    <tr>\n",
       "      <th>50%</th>\n",
       "      <td>0.000000</td>\n",
       "      <td>1.640000</td>\n",
       "      <td>0.590000</td>\n",
       "      <td>691.640000</td>\n",
       "      <td>123.000000</td>\n",
       "      <td>23.000000</td>\n",
       "      <td>4.000000</td>\n",
       "      <td>31.069333</td>\n",
       "    </tr>\n",
       "    <tr>\n",
       "      <th>75%</th>\n",
       "      <td>1.000000</td>\n",
       "      <td>2.920000</td>\n",
       "      <td>0.670000</td>\n",
       "      <td>1121.530000</td>\n",
       "      <td>170.500000</td>\n",
       "      <td>28.000000</td>\n",
       "      <td>5.000000</td>\n",
       "      <td>46.429973</td>\n",
       "    </tr>\n",
       "    <tr>\n",
       "      <th>max</th>\n",
       "      <td>1.000000</td>\n",
       "      <td>400.970000</td>\n",
       "      <td>0.880000</td>\n",
       "      <td>7372.060000</td>\n",
       "      <td>910.000000</td>\n",
       "      <td>75.000000</td>\n",
       "      <td>5.000000</td>\n",
       "      <td>141.054091</td>\n",
       "    </tr>\n",
       "  </tbody>\n",
       "</table>\n",
       "</div>"
      ],
      "text/plain": [
       "       signup_flag  distance_from_store  credit_score  total_sales  \\\n",
       "count   847.000000           847.000000    847.000000   847.000000   \n",
       "mean      0.304604             2.614545      0.597521   968.166411   \n",
       "std       0.460512            14.397590      0.102264  1073.647531   \n",
       "min       0.000000             0.000000      0.260000     2.090000   \n",
       "25%       0.000000             0.730000      0.530000   383.940000   \n",
       "50%       0.000000             1.640000      0.590000   691.640000   \n",
       "75%       1.000000             2.920000      0.670000  1121.530000   \n",
       "max       1.000000           400.970000      0.880000  7372.060000   \n",
       "\n",
       "       total_items  transaction_count  product_area_count  \\\n",
       "count   847.000000         847.000000          847.000000   \n",
       "mean    143.877214          22.214876            4.177096   \n",
       "std     125.342694          11.721699            0.920887   \n",
       "min       1.000000           1.000000            1.000000   \n",
       "25%      77.000000          16.000000            4.000000   \n",
       "50%     123.000000          23.000000            4.000000   \n",
       "75%     170.500000          28.000000            5.000000   \n",
       "max     910.000000          75.000000            5.000000   \n",
       "\n",
       "       average_basket_value  \n",
       "count            847.000000  \n",
       "mean              38.034161  \n",
       "std               24.243691  \n",
       "min                2.090000  \n",
       "25%               21.734700  \n",
       "50%               31.069333  \n",
       "75%               46.429973  \n",
       "max              141.054091  "
      ]
     },
     "execution_count": 12,
     "metadata": {},
     "output_type": "execute_result"
    }
   ],
   "source": [
    "### Outliers_investigation\n",
    "outlier_investigatoin=data_for_model.describe()\n",
    "outlier_investigatoin"
   ]
  },
  {
   "cell_type": "code",
   "execution_count": 13,
   "metadata": {},
   "outputs": [
    {
     "name": "stdout",
     "output_type": "stream",
     "text": [
      "there were 8 outliers detecetd\n",
      "there were 54 outliers detecetd\n",
      "there were 0 outliers detecetd\n",
      "there were 17 outliers detecetd\n"
     ]
    }
   ],
   "source": [
    "outlier_column=[\"distance_from_store\",\"total_sales\",\n",
    "                \"credit_score\", \"average_basket_value\" ]\n",
    "for column in outlier_column:\n",
    "    \n",
    "    lower_qrt=data_for_model[column].quantile(0.25)\n",
    "    upper_qrt=data_for_model[column].quantile(0.75)  \n",
    "    inetrqrt_range = upper_qrt - lower_qrt\n",
    "    Lower_boundary = lower_qrt - (inetrqrt_range* 2)\n",
    "    Upper_boundary = upper_qrt + (inetrqrt_range* 2)\n",
    "    outliers = data_for_model[(data_for_model[column] < Lower_boundary) | (data_for_model[column] > Upper_boundary)].index\n",
    "    \n",
    "    print(f\"there were {len(outliers)} outliers detecetd\")\n",
    "    \n",
    "    data_for_model.drop(outliers, inplace=True)"
   ]
  },
  {
   "cell_type": "code",
   "execution_count": 14,
   "metadata": {},
   "outputs": [],
   "source": [
    "## split input and output variables\n",
    "X = data_for_model.drop([\"signup_flag\"], axis=1)\n",
    "y = data_for_model[\"signup_flag\"]"
   ]
  },
  {
   "cell_type": "code",
   "execution_count": 15,
   "metadata": {},
   "outputs": [],
   "source": [
    "## Split the data into train and test data\n",
    "X_train, X_test, y_train, y_test = train_test_split(X,y, test_size=0.2, random_state=42, stratify =y)"
   ]
  },
  {
   "cell_type": "code",
   "execution_count": 16,
   "metadata": {},
   "outputs": [],
   "source": [
    "### Intansiate the model\n",
    "clf = LogisticRegression(random_state=42)"
   ]
  },
  {
   "cell_type": "code",
   "execution_count": 17,
   "metadata": {},
   "outputs": [],
   "source": [
    "### dealing with categroical variables\n",
    "encoder= OneHotEncoder(sparse=False,drop= \"first\")\n",
    "cat_vars=[\"gender\"]\n",
    "X_train_encoder=encoder.fit_transform(X_train[cat_vars])\n",
    "X_test_encoder=encoder.transform(X_test[cat_vars])\n",
    "feature_names= encoder.get_feature_names(cat_vars)\n",
    "\n",
    "X_train_encoder =pd.DataFrame(X_train_encoder, columns = feature_names)\n",
    "X_train = pd.concat([X_train.reset_index(drop=True), X_train_encoder.reset_index(drop=True)],axis=1)\n",
    "X_train.drop(cat_vars, axis =1, inplace=True)\n",
    "\n",
    "X_test_encoder =pd.DataFrame(X_test_encoder, columns = feature_names)\n",
    "X_test = pd.concat([X_test.reset_index(drop=True), X_test_encoder.reset_index(drop=True)],axis=1)\n",
    "X_test.drop(cat_vars, axis =1, inplace=True)"
   ]
  },
  {
   "cell_type": "code",
   "execution_count": 18,
   "metadata": {},
   "outputs": [
    {
     "data": {
      "text/html": [
       "<div>\n",
       "<style scoped>\n",
       "    .dataframe tbody tr th:only-of-type {\n",
       "        vertical-align: middle;\n",
       "    }\n",
       "\n",
       "    .dataframe tbody tr th {\n",
       "        vertical-align: top;\n",
       "    }\n",
       "\n",
       "    .dataframe thead th {\n",
       "        text-align: right;\n",
       "    }\n",
       "</style>\n",
       "<table border=\"1\" class=\"dataframe\">\n",
       "  <thead>\n",
       "    <tr style=\"text-align: right;\">\n",
       "      <th></th>\n",
       "      <th>distance_from_store</th>\n",
       "      <th>credit_score</th>\n",
       "      <th>total_sales</th>\n",
       "      <th>total_items</th>\n",
       "      <th>transaction_count</th>\n",
       "      <th>product_area_count</th>\n",
       "      <th>average_basket_value</th>\n",
       "      <th>gender_M</th>\n",
       "    </tr>\n",
       "  </thead>\n",
       "  <tbody>\n",
       "    <tr>\n",
       "      <th>0</th>\n",
       "      <td>1.59</td>\n",
       "      <td>0.50</td>\n",
       "      <td>587.82</td>\n",
       "      <td>108</td>\n",
       "      <td>17</td>\n",
       "      <td>5</td>\n",
       "      <td>34.577647</td>\n",
       "      <td>1.0</td>\n",
       "    </tr>\n",
       "    <tr>\n",
       "      <th>1</th>\n",
       "      <td>0.88</td>\n",
       "      <td>0.56</td>\n",
       "      <td>50.08</td>\n",
       "      <td>6</td>\n",
       "      <td>2</td>\n",
       "      <td>2</td>\n",
       "      <td>25.040000</td>\n",
       "      <td>1.0</td>\n",
       "    </tr>\n",
       "    <tr>\n",
       "      <th>2</th>\n",
       "      <td>0.94</td>\n",
       "      <td>0.67</td>\n",
       "      <td>1141.86</td>\n",
       "      <td>204</td>\n",
       "      <td>41</td>\n",
       "      <td>5</td>\n",
       "      <td>27.850244</td>\n",
       "      <td>1.0</td>\n",
       "    </tr>\n",
       "    <tr>\n",
       "      <th>3</th>\n",
       "      <td>0.28</td>\n",
       "      <td>0.39</td>\n",
       "      <td>405.53</td>\n",
       "      <td>114</td>\n",
       "      <td>26</td>\n",
       "      <td>4</td>\n",
       "      <td>15.597308</td>\n",
       "      <td>1.0</td>\n",
       "    </tr>\n",
       "    <tr>\n",
       "      <th>4</th>\n",
       "      <td>0.16</td>\n",
       "      <td>0.45</td>\n",
       "      <td>405.80</td>\n",
       "      <td>100</td>\n",
       "      <td>26</td>\n",
       "      <td>4</td>\n",
       "      <td>15.607692</td>\n",
       "      <td>1.0</td>\n",
       "    </tr>\n",
       "    <tr>\n",
       "      <th>...</th>\n",
       "      <td>...</td>\n",
       "      <td>...</td>\n",
       "      <td>...</td>\n",
       "      <td>...</td>\n",
       "      <td>...</td>\n",
       "      <td>...</td>\n",
       "      <td>...</td>\n",
       "      <td>...</td>\n",
       "    </tr>\n",
       "    <tr>\n",
       "      <th>149</th>\n",
       "      <td>0.02</td>\n",
       "      <td>0.61</td>\n",
       "      <td>1203.23</td>\n",
       "      <td>223</td>\n",
       "      <td>39</td>\n",
       "      <td>5</td>\n",
       "      <td>30.852051</td>\n",
       "      <td>1.0</td>\n",
       "    </tr>\n",
       "    <tr>\n",
       "      <th>150</th>\n",
       "      <td>1.16</td>\n",
       "      <td>0.72</td>\n",
       "      <td>514.71</td>\n",
       "      <td>109</td>\n",
       "      <td>23</td>\n",
       "      <td>5</td>\n",
       "      <td>22.378696</td>\n",
       "      <td>0.0</td>\n",
       "    </tr>\n",
       "    <tr>\n",
       "      <th>151</th>\n",
       "      <td>2.62</td>\n",
       "      <td>0.54</td>\n",
       "      <td>37.38</td>\n",
       "      <td>6</td>\n",
       "      <td>2</td>\n",
       "      <td>1</td>\n",
       "      <td>18.690000</td>\n",
       "      <td>0.0</td>\n",
       "    </tr>\n",
       "    <tr>\n",
       "      <th>152</th>\n",
       "      <td>1.80</td>\n",
       "      <td>0.53</td>\n",
       "      <td>1131.45</td>\n",
       "      <td>132</td>\n",
       "      <td>32</td>\n",
       "      <td>5</td>\n",
       "      <td>35.357813</td>\n",
       "      <td>1.0</td>\n",
       "    </tr>\n",
       "    <tr>\n",
       "      <th>153</th>\n",
       "      <td>0.36</td>\n",
       "      <td>0.87</td>\n",
       "      <td>227.77</td>\n",
       "      <td>44</td>\n",
       "      <td>8</td>\n",
       "      <td>4</td>\n",
       "      <td>28.471250</td>\n",
       "      <td>1.0</td>\n",
       "    </tr>\n",
       "  </tbody>\n",
       "</table>\n",
       "<p>154 rows × 8 columns</p>\n",
       "</div>"
      ],
      "text/plain": [
       "     distance_from_store  credit_score  total_sales  total_items  \\\n",
       "0                   1.59          0.50       587.82          108   \n",
       "1                   0.88          0.56        50.08            6   \n",
       "2                   0.94          0.67      1141.86          204   \n",
       "3                   0.28          0.39       405.53          114   \n",
       "4                   0.16          0.45       405.80          100   \n",
       "..                   ...           ...          ...          ...   \n",
       "149                 0.02          0.61      1203.23          223   \n",
       "150                 1.16          0.72       514.71          109   \n",
       "151                 2.62          0.54        37.38            6   \n",
       "152                 1.80          0.53      1131.45          132   \n",
       "153                 0.36          0.87       227.77           44   \n",
       "\n",
       "     transaction_count  product_area_count  average_basket_value  gender_M  \n",
       "0                   17                   5             34.577647       1.0  \n",
       "1                    2                   2             25.040000       1.0  \n",
       "2                   41                   5             27.850244       1.0  \n",
       "3                   26                   4             15.597308       1.0  \n",
       "4                   26                   4             15.607692       1.0  \n",
       "..                 ...                 ...                   ...       ...  \n",
       "149                 39                   5             30.852051       1.0  \n",
       "150                 23                   5             22.378696       0.0  \n",
       "151                  2                   1             18.690000       0.0  \n",
       "152                 32                   5             35.357813       1.0  \n",
       "153                  8                   4             28.471250       1.0  \n",
       "\n",
       "[154 rows x 8 columns]"
      ]
     },
     "execution_count": 18,
     "metadata": {},
     "output_type": "execute_result"
    }
   ],
   "source": [
    "X_test"
   ]
  },
  {
   "cell_type": "code",
   "execution_count": 19,
   "metadata": {},
   "outputs": [
    {
     "name": "stdout",
     "output_type": "stream",
     "text": [
      "Optimal no. of features: 7\n"
     ]
    }
   ],
   "source": [
    "### Feature Selection\n",
    "clf = LogisticRegression(random_state =42, max_iter =1000)\n",
    "feature_selector= RFECV(clf)\n",
    "fit = feature_selector.fit(X_train, y_train)\n",
    "optimal_feature_count =feature_selector.n_features_\n",
    "print(f\"Optimal no. of features: {optimal_feature_count}\")"
   ]
  },
  {
   "cell_type": "code",
   "execution_count": 20,
   "metadata": {},
   "outputs": [],
   "source": [
    "X_train = X_train.loc[:, feature_selector.get_support()]\n",
    "X_test = X_test.loc[:, feature_selector.get_support()]"
   ]
  },
  {
   "cell_type": "code",
   "execution_count": 21,
   "metadata": {},
   "outputs": [
    {
     "data": {
      "image/png": "[encoded data removed]",
      "text/plain": [
       "<Figure size 432x288 with 1 Axes>"
      ]
     },
     "metadata": {
      "needs_background": "light"
     },
     "output_type": "display_data"
    }
   ],
   "source": [
    "plt.plot(range(1, len(fit.grid_scores_)+1), fit.grid_scores_, marker=\"o\")\n",
    "plt.ylabel(\"Model_Scores\")\n",
    "plt.xlabel(\"Number_of_Features\")\n",
    "plt.title(f\"Feature_Selection_using_RFECV \\n Optimal number of features is {optimal_feature_count} (at scores of {round(max(fit.grid_scores_),4)})\")\n",
    "plt.tight_layout()\n",
    "plt.show()"
   ]
  },
  {
   "cell_type": "code",
   "execution_count": 22,
   "metadata": {},
   "outputs": [
    {
     "data": {
      "text/plain": [
       "0.922077922077922"
      ]
     },
     "execution_count": 22,
     "metadata": {},
     "output_type": "execute_result"
    }
   ],
   "source": [
    "##Model Training\n",
    "clf = LogisticRegression(random_state =42, max_iter =1000)\n",
    "clf.fit(X_train, y_train)\n",
    "y_pred_class = clf.predict(X_test)\n",
    "accuracy = accuracy_score(y_test, y_pred_class)\n",
    "accuracy"
   ]
  },
  {
   "cell_type": "code",
   "execution_count": 36,
   "metadata": {},
   "outputs": [
    {
     "data": {
      "text/plain": [
       "array([0, 0, 0, 0, 0, 0, 0, 0, 1, 0, 0, 0, 0, 1, 0, 1, 0, 0, 0, 0, 0, 0,\n",
       "       0, 0, 0, 0, 0, 0, 0, 0, 1, 0, 0, 1, 0, 1, 1, 0, 1, 0, 0, 0, 0, 1,\n",
       "       1, 1, 0, 0, 0, 0, 0, 1, 0, 0, 1, 1, 0, 0, 0, 1, 1, 0, 0, 0, 0, 0,\n",
       "       0, 0, 0, 0, 0, 0, 0, 0, 0, 0, 0, 0, 1, 1, 0, 0, 0, 0, 1, 0, 0, 1,\n",
       "       1, 1, 0, 1, 1, 1, 0, 0, 0, 0, 0, 0, 0, 0, 0, 0, 0, 0, 0, 1, 0, 0,\n",
       "       1, 0, 0, 0, 1, 0, 0, 0, 1, 0, 0, 0, 0, 0, 1, 0, 0, 0, 0, 0, 1, 1,\n",
       "       0, 0, 0, 0, 0, 0, 0, 0, 0, 0, 1, 1, 0, 0, 0, 0, 1, 0, 0, 0, 0, 0],\n",
       "      dtype=int64)"
      ]
     },
     "execution_count": 36,
     "metadata": {},
     "output_type": "execute_result"
    }
   ],
   "source": [
    "y_pred_class"
   ]
  },
  {
   "cell_type": "code",
   "execution_count": null,
   "metadata": {},
   "outputs": [],
   "source": [
    "X_test[9]"
   ]
  },
  {
   "cell_type": "code",
   "execution_count": 23,
   "metadata": {},
   "outputs": [
    {
     "data": {
      "text/plain": [
       "array([4.92281396e-02, 8.53557700e-05, 1.41807414e-01, 1.86656742e-03,\n",
       "       1.82861923e-03, 5.76345539e-02, 1.92371074e-03, 5.65596783e-03,\n",
       "       7.70140611e-01, 1.16740148e-01, 2.57355131e-02, 2.64803822e-02,\n",
       "       4.37580438e-01, 9.36339656e-01, 2.35943271e-01, 9.16239746e-01,\n",
       "       1.60383501e-03, 4.32165977e-03, 1.72186171e-02, 3.73294243e-02,\n",
       "       1.71565097e-04, 1.40454297e-02, 3.76575127e-02, 2.53604718e-03,\n",
       "       1.76965523e-02, 3.79162131e-01, 3.65141485e-04, 1.10280674e-01,\n",
       "       3.02515412e-03, 1.76029771e-01, 8.64046073e-01, 5.43657500e-02,\n",
       "       3.82964071e-05, 8.06108742e-01, 1.29080571e-01, 5.51560739e-01,\n",
       "       8.80234387e-01, 1.64429479e-01, 7.31633129e-01, 5.32501230e-02,\n",
       "       1.74589977e-01, 9.82476496e-03, 1.16537233e-02, 8.27631041e-01,\n",
       "       7.88316994e-01, 6.37956783e-01, 2.27861738e-01, 6.66166269e-02,\n",
       "       3.41821017e-03, 3.60355890e-03, 9.55790946e-02, 7.94523760e-01,\n",
       "       7.91568543e-02, 2.77870208e-02, 5.92014671e-01, 6.05867819e-01,\n",
       "       8.11673326e-03, 1.63438343e-04, 2.51219050e-02, 5.27159647e-01,\n",
       "       6.99178380e-01, 4.32482817e-01, 5.71808898e-03, 3.03033513e-03,\n",
       "       3.24586580e-02, 1.41293214e-01, 1.58745826e-01, 4.77131924e-01,\n",
       "       1.23030268e-01, 1.39487689e-03, 1.71872195e-01, 1.05033436e-01,\n",
       "       1.50409715e-03, 9.16454439e-02, 1.38090926e-03, 1.93782693e-01,\n",
       "       9.96324634e-03, 3.10132448e-01, 6.13834600e-01, 8.88591802e-01,\n",
       "       2.38091092e-02, 9.59446170e-03, 4.82760573e-02, 2.10519811e-01,\n",
       "       7.75809359e-01, 2.98356941e-01, 2.55959785e-01, 8.94259768e-01,\n",
       "       7.10045058e-01, 6.53471864e-01, 1.17374347e-01, 9.51516828e-01,\n",
       "       5.34443274e-01, 9.08470270e-01, 3.06152661e-02, 4.62682875e-02,\n",
       "       4.09934132e-01, 4.10245778e-02, 4.04583207e-02, 4.04138350e-02,\n",
       "       4.48115287e-02, 3.16681867e-03, 1.11579884e-01, 1.86915249e-03,\n",
       "       7.46816219e-06, 5.99787908e-03, 6.82412640e-04, 9.97713396e-01,\n",
       "       1.53755455e-02, 9.44630402e-02, 9.91707074e-01, 1.15519168e-03,\n",
       "       1.32892274e-01, 8.47177113e-04, 5.20481296e-01, 1.52636676e-02,\n",
       "       1.85685459e-01, 7.75429050e-04, 5.91867729e-01, 2.42783252e-05,\n",
       "       1.57121165e-02, 2.63029652e-02, 1.33889243e-01, 5.61566287e-02,\n",
       "       8.27750378e-01, 3.92543067e-05, 1.26034307e-02, 7.96565523e-02,\n",
       "       6.17205505e-05, 2.26331220e-02, 8.99149142e-01, 5.46082255e-01,\n",
       "       4.20617499e-01, 8.12851189e-03, 4.15162035e-01, 1.76948284e-01,\n",
       "       1.18782357e-01, 2.07808901e-03, 2.58380282e-02, 9.46689717e-02,\n",
       "       1.62631720e-01, 7.92799202e-04, 9.37458007e-01, 9.62131428e-01,\n",
       "       1.93899760e-02, 2.41519622e-01, 1.63731140e-02, 4.89907453e-03,\n",
       "       8.15044873e-01, 1.99816648e-02, 1.08649099e-01, 1.68435132e-03,\n",
       "       4.02975837e-01, 7.29374946e-04])"
      ]
     },
     "execution_count": 23,
     "metadata": {},
     "output_type": "execute_result"
    }
   ],
   "source": [
    "y_pred_prob = clf.predict_proba(X_test)[:,1]\n",
    "y_pred_prob"
   ]
  },
  {
   "cell_type": "code",
   "execution_count": 24,
   "metadata": {},
   "outputs": [
    {
     "data": {
      "image/png": "[encoded data removed]",
      "text/plain": [
       "<Figure size 633.6x633.6 with 1 Axes>"
      ]
     },
     "metadata": {
      "needs_background": "light"
     },
     "output_type": "display_data"
    }
   ],
   "source": [
    "## confusion_matrix\n",
    "conf_matrix = confusion_matrix(y_test, y_pred_class)\n",
    "conf_matrix\n",
    "\n",
    "plt.style.use(\"seaborn-poster\")\n",
    "plt.matshow(conf_matrix, cmap= \"coolwarm\")\n",
    "plt.gca().xaxis.tick_bottom()\n",
    "plt.title(\"Confusion_matrix\")\n",
    "plt.ylabel(\"Actual_class\")\n",
    "plt.xlabel(\"Predicted_class\")\n",
    "for (i,j), corr_value in np.ndenumerate(conf_matrix):\n",
    "    plt.text(j,i,corr_value, ha =\"center\", va =\"center\", fontsize =20)\n",
    "plt.show()  "
   ]
  },
  {
   "cell_type": "code",
   "execution_count": 25,
   "metadata": {},
   "outputs": [
    {
     "data": {
      "text/plain": [
       "0.922077922077922"
      ]
     },
     "execution_count": 25,
     "metadata": {},
     "output_type": "execute_result"
    }
   ],
   "source": [
    "### Accuracy (the number of correct classification out of all attempted classification)\n",
    "accuracy_score(y_test, y_pred_class)"
   ]
  },
  {
   "cell_type": "code",
   "execution_count": 26,
   "metadata": {},
   "outputs": [
    {
     "data": {
      "text/plain": [
       "0.8857142857142857"
      ]
     },
     "execution_count": 26,
     "metadata": {},
     "output_type": "execute_result"
    }
   ],
   "source": [
    "## Precision (of all observations that were predicted negative, how many were actually positive)\n",
    "precision_score(y_test, y_pred_class)"
   ]
  },
  {
   "cell_type": "code",
   "execution_count": 27,
   "metadata": {},
   "outputs": [
    {
     "data": {
      "text/plain": [
       "0.7948717948717948"
      ]
     },
     "execution_count": 27,
     "metadata": {},
     "output_type": "execute_result"
    }
   ],
   "source": [
    "## Recall (of all positive obs., how many did we predict positive )\n",
    "recall_score(y_test, y_pred_class)"
   ]
  },
  {
   "cell_type": "code",
   "execution_count": 28,
   "metadata": {},
   "outputs": [
    {
     "data": {
      "text/plain": [
       "0.8378378378378378"
      ]
     },
     "execution_count": 28,
     "metadata": {},
     "output_type": "execute_result"
    }
   ],
   "source": [
    "## F1_score(the harmonic mean of precision and recall)\n",
    "f1_score(y_test, y_pred_class)"
   ]
  },
  {
   "cell_type": "code",
   "execution_count": 29,
   "metadata": {},
   "outputs": [],
   "source": [
    "### Finding the optimal threshold\n",
    "thresholds =np.arange(0,1,0.01)\n",
    "precision_scores = []\n",
    "recall_scores= []\n",
    "f1_scores = []\n",
    "\n"
   ]
  },
  {
   "cell_type": "code",
   "execution_count": 30,
   "metadata": {},
   "outputs": [],
   "source": [
    "for threshold in thresholds:\n",
    "    \n",
    "    pred_class = (y_pred_prob >= threshold) * 1\n",
    "    \n",
    "    precision = precision_score(y_test, pred_class, zero_division = 0)\n",
    "    precision_scores.append(precision)\n",
    "    \n",
    "    recall = recall_score(y_test, pred_class)\n",
    "    recall_scores.append(recall)  \n",
    "                          \n",
    "    f1 = f1_score(y_test, pred_class)\n",
    "    f1_scores.append(f1)\n",
    "    \n"
   ]
  },
  {
   "cell_type": "code",
   "execution_count": 31,
   "metadata": {},
   "outputs": [],
   "source": [
    "max_f1 = max(f1_scores)\n",
    "max_f1_idx = f1_scores.index(max_f1)"
   ]
  },
  {
   "cell_type": "code",
   "execution_count": 32,
   "metadata": {},
   "outputs": [
    {
     "data": {
      "text/plain": [
       "0.8378378378378378"
      ]
     },
     "execution_count": 32,
     "metadata": {},
     "output_type": "execute_result"
    }
   ],
   "source": [
    "max_f1"
   ]
  },
  {
   "cell_type": "code",
   "execution_count": 33,
   "metadata": {},
   "outputs": [
    {
     "data": {
      "image/png": "[encoded data removed]",
      "text/plain": [
       "<Figure size 921.6x633.6 with 1 Axes>"
      ]
     },
     "metadata": {
      "needs_background": "light"
     },
     "output_type": "display_data"
    }
   ],
   "source": [
    "plt.style.use(\"seaborn-poster\")\n",
    "plt.plot(thresholds, precision_scores, label = \"Precision\", linestyle = \"--\")\n",
    "plt.plot(thresholds, recall_scores, label = \"Recall\", linestyle = \"--\")\n",
    "plt.plot(thresholds, f1_scores, label = \"F1\", linewidth = 5)\n",
    "plt.title(f\"Finding the Optimal Threshold for Classification model \\n Max F1_score: {round(max_f1,2)} (Threshold ={round(thresholds[max_f1_idx],2)})\")\n",
    "plt.xlabel(\"Threshold\")\n",
    "plt.ylabel(\"Assesment_score\")\n",
    "plt.legend(loc =\"lower left\")\n",
    "plt.tight_layout()\n",
    "plt.show()"
   ]
  },
  {
   "cell_type": "code",
   "execution_count": 34,
   "metadata": {},
   "outputs": [
    {
     "data": {
      "text/html": [
       "<div>\n",
       "<style scoped>\n",
       "    .dataframe tbody tr th:only-of-type {\n",
       "        vertical-align: middle;\n",
       "    }\n",
       "\n",
       "    .dataframe tbody tr th {\n",
       "        vertical-align: top;\n",
       "    }\n",
       "\n",
       "    .dataframe thead th {\n",
       "        text-align: right;\n",
       "    }\n",
       "</style>\n",
       "<table border=\"1\" class=\"dataframe\">\n",
       "  <thead>\n",
       "    <tr style=\"text-align: right;\">\n",
       "      <th></th>\n",
       "      <th>predicted_output</th>\n",
       "    </tr>\n",
       "  </thead>\n",
       "  <tbody>\n",
       "    <tr>\n",
       "      <th>0</th>\n",
       "      <td>0</td>\n",
       "    </tr>\n",
       "    <tr>\n",
       "      <th>1</th>\n",
       "      <td>0</td>\n",
       "    </tr>\n",
       "    <tr>\n",
       "      <th>2</th>\n",
       "      <td>0</td>\n",
       "    </tr>\n",
       "    <tr>\n",
       "      <th>3</th>\n",
       "      <td>0</td>\n",
       "    </tr>\n",
       "    <tr>\n",
       "      <th>4</th>\n",
       "      <td>0</td>\n",
       "    </tr>\n",
       "    <tr>\n",
       "      <th>...</th>\n",
       "      <td>...</td>\n",
       "    </tr>\n",
       "    <tr>\n",
       "      <th>149</th>\n",
       "      <td>0</td>\n",
       "    </tr>\n",
       "    <tr>\n",
       "      <th>150</th>\n",
       "      <td>0</td>\n",
       "    </tr>\n",
       "    <tr>\n",
       "      <th>151</th>\n",
       "      <td>0</td>\n",
       "    </tr>\n",
       "    <tr>\n",
       "      <th>152</th>\n",
       "      <td>0</td>\n",
       "    </tr>\n",
       "    <tr>\n",
       "      <th>153</th>\n",
       "      <td>0</td>\n",
       "    </tr>\n",
       "  </tbody>\n",
       "</table>\n",
       "<p>154 rows × 1 columns</p>\n",
       "</div>"
      ],
      "text/plain": [
       "     predicted_output\n",
       "0                   0\n",
       "1                   0\n",
       "2                   0\n",
       "3                   0\n",
       "4                   0\n",
       "..                ...\n",
       "149                 0\n",
       "150                 0\n",
       "151                 0\n",
       "152                 0\n",
       "153                 0\n",
       "\n",
       "[154 rows x 1 columns]"
      ]
     },
     "execution_count": 34,
     "metadata": {},
     "output_type": "execute_result"
    }
   ],
   "source": [
    "optimal_threshold = 0.48\n",
    "y_pred_class_opt_thresh = pd.DataFrame((y_pred_prob >= optimal_threshold) * 1, columns = [\"predicted_output\"])\n",
    "y_pred_class_opt_thresh"
   ]
  },
  {
   "cell_type": "markdown",
   "metadata": {},
   "source": [
    "### Pickling the model"
   ]
  },
  {
   "cell_type": "code",
   "execution_count": 35,
   "metadata": {},
   "outputs": [],
   "source": [
    "import pickle\n",
    "pickle.dump(clf, open('logistics.pkl', 'wb'))"
   ]
  },
  {
   "cell_type": "code",
   "execution_count": null,
   "metadata": {},
   "outputs": [],
   "source": []
  }
 ],
 "metadata": {
  "kernelspec": {
   "display_name": "Python 3",
   "language": "python",
   "name": "python3"
  },
  "language_info": {
   "codemirror_mode": {
    "name": "ipython",
    "version": 3
   },
   "file_extension": ".py",
   "mimetype": "text/x-python",
   "name": "python",
   "nbconvert_exporter": "python",
   "pygments_lexer": "ipython3",
   "version": "3.8.5"
  }
 },
 "nbformat": 4,
 "nbformat_minor": 4
}
